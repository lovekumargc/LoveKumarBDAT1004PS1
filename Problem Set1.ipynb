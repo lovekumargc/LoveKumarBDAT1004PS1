{
 "cells": [
  {
   "cell_type": "markdown",
   "metadata": {},
   "source": [
    "# Problem Set 1\n",
    "## Name - Love Kumar\n",
    "## Program - BDAT\n",
    "## Student # - 200456485"
   ]
  },
  {
   "cell_type": "markdown",
   "metadata": {},
   "source": [
    "# Question 1\n",
    "#### What data type is each of the following?"
   ]
  },
  {
   "cell_type": "code",
   "execution_count": null,
   "metadata": {},
   "outputs": [],
   "source": [
    "#5 is of the data type int\n",
    "print('5 is {}'.format(type(5)))\n",
    "\n",
    "#5.0 is of the data type float\n",
    "print('5.0 is {}'.format(type(5.0)))\n",
    "\n",
    "#5 > 1 is of the data type bool and evaluates to true\n",
    "print('5 > 1 is {}'.format(type(5 > 1)))\n",
    "\n",
    "#'5' is of the data type string\n",
    "print('\"5\" is {}'.format(type(\"5\")))\n",
    "\n",
    "#5*2 is of the data type int and evaluates to 10\n",
    "print('5*2 is {}'.format(type(5*2)))\n",
    "\n",
    "#'5' * 2 is of the data type string and evaluates to '55'\n",
    "print('\"5\" * 2 is {}'.format(type(\"5\" * 2)))\n",
    "\n",
    "#'5' + '2' is of the data type string and evaluates to '52'\n",
    "print('\"5\" + \"2\" is {}'.format(type(\"5\" + \"2\")))\n",
    "\n",
    "#5/2 is of the data type float and evaluates to 2.5\n",
    "print('5/2 is {}'.format(type(5/2)))\n",
    "\n",
    "#5 // 2 is of the data type int and evaluates to 2\n",
    "print('5//2 is {}'.format(type(5//2)))\n",
    "\n",
    "#[5, 2, 1] is of the data type list\n",
    "print('[5, 2, 1] is {}'.format(type([5, 2, 1])))\n",
    "\n",
    "#5 in [1, 4, 6] is of the data type bool and evaluates to false\n",
    "print('5 in [1, 4, 6] is {}'.format(type(5 in [1, 4, 6])))\n",
    "\n",
    "import math\n",
    "#math.pi is of the data type float\n",
    "print('math.pi is {}'.format(type(math.pi)))"
   ]
  },
  {
   "cell_type": "markdown",
   "metadata": {},
   "source": [
    "# Question 2 (a)\n",
    "#### Write (and evaluate) Python expressions that answer these questions\n",
    "#### How many letters are there in 'Supercalifragilisticexpialidocious'?"
   ]
  },
  {
   "cell_type": "code",
   "execution_count": 7,
   "metadata": {},
   "outputs": [
    {
     "name": "stdout",
     "output_type": "stream",
     "text": [
      "There are 34 letters in the word Supercalifragilisticexpialidocious.\n"
     ]
    }
   ],
   "source": [
    "def countLength(string):\n",
    "    return len(string)\n",
    "\n",
    "word = 'Supercalifragilisticexpialidocious'\n",
    "length = countLength(word)\n",
    "print(\"There are {} letters in the word {}.\".format(length, word))"
   ]
  },
  {
   "cell_type": "markdown",
   "metadata": {},
   "source": [
    "# Question 2 (b)\n",
    "#### Write (and evaluate) Python expressions that answer these questions\n",
    "#### Does 'Supercalifragilisticexpialidocious' contain 'ice' as a substring?"
   ]
  },
  {
   "cell_type": "code",
   "execution_count": 8,
   "metadata": {},
   "outputs": [
    {
     "name": "stdout",
     "output_type": "stream",
     "text": [
      "ice is present in Supercalifragilisticexpialidocious.\n"
     ]
    }
   ],
   "source": [
    "# https://www.geeksforgeeks.org/ternary-operator-in-python/\n",
    "\n",
    "def isPresentInString(string, subString):\n",
    "    return subString in string\n",
    "\n",
    "string = 'Supercalifragilisticexpialidocious'\n",
    "subString = 'ice'\n",
    "isPresent = \"present\" if isPresentInString(string , subString) else \"not present\"\n",
    "\n",
    "print(\"{} is {} in {}.\".format(subString, isPresent, string))"
   ]
  },
  {
   "cell_type": "markdown",
   "metadata": {},
   "source": [
    "# Question 2 (c)\n",
    "#### Write (and evaluate) Python expressions that answer these questions\n",
    "#### Which of the following words is the longest:\n",
    "#### Supercalifragilisticexpialidocious Honorificabilitudinitatibus, or Bababadalgharaghtakamminarronnkonn?"
   ]
  },
  {
   "cell_type": "code",
   "execution_count": 9,
   "metadata": {},
   "outputs": [
    {
     "name": "stdout",
     "output_type": "stream",
     "text": [
      "The longest word is Supercalifragilisticexpialidocious\n"
     ]
    }
   ],
   "source": [
    "def getLongestWord(words):\n",
    "    \n",
    "    if len(words) == 0:\n",
    "        return\n",
    "    \n",
    "    maxLen = 0\n",
    "    longestWord = ''\n",
    "    \n",
    "    for word in words:\n",
    "        wordLength = len(word)\n",
    "        if wordLength > maxLen:\n",
    "            maxLen = wordLength\n",
    "            longestWord = word\n",
    "            \n",
    "    return longestWord               \n",
    "\n",
    "longestWord = getLongestWord(['Supercalifragilisticexpialidocious', 'Honorificabilitudinitatibus', 'Bababadalgharaghtakamminarronnkonn'])\n",
    "\n",
    "print(\"The longest word is \" + longestWord)"
   ]
  },
  {
   "cell_type": "markdown",
   "metadata": {},
   "source": [
    "# Question 2 (d)\n",
    "#### Write (and evaluate) Python expressions that answer these questions\n",
    "#### Which composer comes first in the dictionary:\n",
    "#### 'Berlioz', 'Borodin', 'Brian', 'Bartok', 'Bellini', 'Buxtehude', 'Bernstein'.\n",
    "#### Which one comes last?"
   ]
  },
  {
   "cell_type": "code",
   "execution_count": null,
   "metadata": {},
   "outputs": [],
   "source": [
    "# Answer: Dictionaries in Python are ordered on the base of insertion. In this case, the composer which is inserted first will come\n",
    "# first in the dictionary. The one which is inserted last comes last.\n",
    "# https://stackoverflow.com/a/39980744/2792410\n",
    "\n",
    "dict = {\"Borodin\" : 0, \"Berlioz\" : 0, \"Brian\" : 0, \"Bartok\" : 0, \"Bellini\" : 0, \"Buxtehude\" : 0, \"Bernstein\" : 0}\n",
    "dict[\"Anna\"] = 0\n",
    "dict[\"Love\"] = 0\n",
    "print(dict.keys())"
   ]
  },
  {
   "cell_type": "markdown",
   "metadata": {},
   "source": [
    "# Question 3 (a)\n",
    "#### Write a function inside(x,y,x1,y1,x2,y2) that returns True or False depending\n",
    "#### on whether the point (x,y) lies in the rectangle with lower left corner (x1,y1)\n",
    "#### and upper right corner (x2,y2).\n",
    "####     >>> inside(1,1,0,0,2,3)\n",
    "####     True\n",
    "####     >>> inside(-1,-1,0,0,2,3)\n",
    "####     False"
   ]
  },
  {
   "cell_type": "code",
   "execution_count": 10,
   "metadata": {},
   "outputs": [
    {
     "name": "stdout",
     "output_type": "stream",
     "text": [
      "True\n"
     ]
    }
   ],
   "source": [
    "def inside(x,y,x1,y1,x2,y2):\n",
    "    \n",
    "    # if x is greater than x1 and smaller than x2, that means\n",
    "    # the point lies inside the x coordinates.\n",
    "    # Similar is the case with y coordinates\n",
    "    if (x < x2 and x > x1) and (y < y2 and y > y1):\n",
    "        return True\n",
    "    else:\n",
    "        return False\n",
    "    \n",
    "print(inside(x = 1, y = 1, x1 = 0, y1 = 0, x2 = 10, y2 = 10))"
   ]
  },
  {
   "cell_type": "markdown",
   "metadata": {},
   "source": [
    "# Question 3 (b)\n",
    "#### Use function inside() from part a. to write an expression that tests\n",
    "#### whether the point (1,1) lies in both of the following rectangles:\n",
    "#### one with lower left corner (0.3, 0.5) and upper right corner (1.1, 0.7)\n",
    "#### and the other with lower left corner (0.5, 0.2) and upper right corner (1.1, 2)."
   ]
  },
  {
   "cell_type": "code",
   "execution_count": 11,
   "metadata": {},
   "outputs": [
    {
     "name": "stdout",
     "output_type": "stream",
     "text": [
      "False\n"
     ]
    }
   ],
   "source": [
    "def inside(x,y,x1,y1,x2,y2):\n",
    "    \n",
    "    # if x is greater than x1 and smaller than x2, that means\n",
    "    # the point lies inside the x coordinates.\n",
    "    # Similar is the case with y coordinates\n",
    "    if (x < x2 and x > x1) and (y < y2 and y > y1):\n",
    "        return True\n",
    "    else:\n",
    "        return False\n",
    "\n",
    "point = (1,1)\n",
    "\n",
    "isInsideRectangleOne = inside(x = point[0], y = point[1], x1 = 0.3, y1 = 0.5, x2 = 1.1, y2 = 0.7)\n",
    "isInsideRectangleTwo = inside(x = point[0], y = point[1], x1 = 0.5, y1 = 0.2, x2 = 1.1, y2 = 2)\n",
    "\n",
    "print(isInsideRectangleOne and isInsideRectangleTwo)"
   ]
  },
  {
   "cell_type": "markdown",
   "metadata": {},
   "source": [
    "# Question 4\n",
    "#### Write a function pig() that takes a word (i.e., a string) as input and returns its pig- Latin form.\n",
    "#### Your function should still work if the input word contains upper case characters.\n",
    "#### Your output should always be lower case however."
   ]
  },
  {
   "cell_type": "code",
   "execution_count": 12,
   "metadata": {},
   "outputs": [
    {
     "name": "stdout",
     "output_type": "stream",
     "text": [
      "Please enter the word: happy\n",
      "appyhay\n"
     ]
    }
   ],
   "source": [
    "def pig(word):\n",
    "\n",
    "    # If not a valid string, return\n",
    "    if len(word) == 0:\n",
    "        return\n",
    "\n",
    "    result = ''\n",
    "    lowerCaseWord = word.lower()\n",
    "    vowels = ['a', 'e', 'i','o','u']\n",
    "    firstChar = lowerCaseWord[0]\n",
    "    isFirstCharVowel = False\n",
    "\n",
    "    if firstChar in vowels:\n",
    "        isFirstCharVowel = True\n",
    "\n",
    "    if isFirstCharVowel:\n",
    "        result = lowerCaseWord + 'way'\n",
    "    else:\n",
    "        result = lowerCaseWord[1:] + firstChar +  'ay' \n",
    "\n",
    "    return result\n",
    "\n",
    "word = input('Please enter the word: ')\n",
    "print(pig(word))"
   ]
  },
  {
   "cell_type": "markdown",
   "metadata": {},
   "source": [
    "# Question 5\n",
    "#### File bloodtype1.txt records blood-types of patients (A, B, AB, O or OO) at a clinic.\n",
    "#### Write a function bldcount() that reads the file with name name and reports\n",
    "#### (i.e., prints) how many patients there are in each bloodtype."
   ]
  },
  {
   "cell_type": "code",
   "execution_count": 13,
   "metadata": {},
   "outputs": [
    {
     "name": "stdout",
     "output_type": "stream",
     "text": [
      "There are 15 patients of blood type A.\n",
      "There is one patient of blood type B.\n",
      "There are 13 patients of blood type AB.\n",
      "There are 15 patients of blood type O.\n",
      "There are no patients of blood type OO.\n"
     ]
    }
   ],
   "source": [
    "def printBloodTypeCount(filename):\n",
    "    \n",
    "    file = open('bloodtype1.txt','r')\n",
    "    bloodTypesDict = {'A':0, 'B':0, 'AB':0, 'O':0, 'OO':0}\n",
    "    bloodTypes = bloodTypesDict.keys()\n",
    "\n",
    "    for line in file:\n",
    "        for bloodType in bloodTypes:\n",
    "            list = line.strip().split(' ')\n",
    "            count = list.count(bloodType)\n",
    "            bloodTypesDict[bloodType] += count\n",
    "        \n",
    "    for key in bloodTypes:\n",
    "        countInt = bloodTypesDict[key]\n",
    "        countStr = 'no'\n",
    "        conj = 'are'\n",
    "        patientString = 'patients'\n",
    "        \n",
    "        if countInt == 1:\n",
    "            countStr = 'one'\n",
    "            conj = 'is'\n",
    "            patientString = 'patient'\n",
    "        elif countInt > 1:\n",
    "            countStr = str(countInt)\n",
    "        \n",
    "        result = 'There {} {} {} of blood type {}.'    \n",
    "        print(result.format(conj, countStr, patientString, key))\n",
    "        \n",
    "printBloodTypeCount('bloodtype1.txt')"
   ]
  },
  {
   "cell_type": "markdown",
   "metadata": {},
   "source": [
    "# Question 6\n",
    "#### Write a function curconv() that takes as input:\n",
    "#### 1. a currency represented using a string (e.g., 'JPY' for the Japanese Yen or 'EUR' for the Euro)\n",
    "#### 2. an amount\n",
    "#### and then converts and returns the amount in US dollars."
   ]
  },
  {
   "cell_type": "code",
   "execution_count": 15,
   "metadata": {},
   "outputs": [
    {
     "name": "stdout",
     "output_type": "stream",
     "text": [
      "122.96544\n"
     ]
    }
   ],
   "source": [
    "## https://stackoverflow.com/questions/4065594/reading-a-file-in-python\n",
    "    \n",
    "def curconv(country, price):\n",
    "    \n",
    "    file = open('currencies.txt','r')\n",
    "    currenciesDict = {}\n",
    "    for line in file:\n",
    "        list = line.strip().split('\\t')\n",
    "        if len(list) >= 2:\n",
    "            currenciesDict[list[0]] = float(list[1])\n",
    "\n",
    "    if country in currenciesDict:\n",
    "        result = price * currenciesDict[country]\n",
    "        return result\n",
    "    else:\n",
    "        return 'Currency not found.'\n",
    "print(curconv('EUR',100))"
   ]
  },
  {
   "cell_type": "markdown",
   "metadata": {},
   "source": [
    "# Question 7\n",
    "#### Each of the following will cause an exception (an error).\n",
    "#### Identify what type of exception each will cause."
   ]
  },
  {
   "cell_type": "code",
   "execution_count": null,
   "metadata": {},
   "outputs": [],
   "source": [
    "# Trying to add incompatible variables, as in adding 6 + ‘a’\n",
    "print(6 + 'a') # TypeError: unsupported operand type(s) for +: 'int' and 'str'\n",
    "\n",
    "# Referring to the 12th item of a list that has only 10 items\n",
    "lst = [0,1,2,3,4,5,6,7,8,9]\n",
    "print(lst[11])\n",
    "# Answer - IndexError: list index out of range\n",
    "\n",
    "# Using a value that is out of range for a function’s input, such as calling math.sqrt(-1.0)\n",
    "import math\n",
    "print(math.sqrt(-1.0))\n",
    "# Answer - ValueError: math domain error\n",
    "\n",
    "# Using an undeclared variable, such as print(x) when x has not been defined\n",
    "print(x)\n",
    "# Answer - NameError: name 'x' is not defined\n",
    "\n",
    "# Trying to open a file that does not exist, such as mistyping the file name\n",
    "# or looking in the wrong directory.\n",
    "file = open('system32')\n",
    "# Answer - FileNotFoundError: [Errno 2] No such file or directory: 'system32'"
   ]
  },
  {
   "cell_type": "markdown",
   "metadata": {},
   "source": [
    "# Question 8\n",
    "#### Write a function called frequencies() that takes a string as its only parameter,\n",
    "#### and returns a list of integers, showing the number of times each character appears in the text.\n",
    "#### Your function may ignore any characters that are not in letters."
   ]
  },
  {
   "cell_type": "code",
   "execution_count": 16,
   "metadata": {
    "scrolled": true
   },
   "outputs": [
    {
     "name": "stdout",
     "output_type": "stream",
     "text": [
      "[1, 0, 0, 0, 1, 0, 0, 0, 0, 0, 0, 1, 0, 0, 0, 2, 0, 0, 0, 0, 0, 0, 0, 0, 0, 0]\n"
     ]
    }
   ],
   "source": [
    "def frequencies(word):\n",
    "    letters = 'abcdefghijklmnopqrstuvwxyz'\n",
    "    letterCountDict = {}\n",
    "    \n",
    "    for char in letters:\n",
    "        letterCountDict[char] = 0\n",
    "    \n",
    "    for char in word:\n",
    "        if char in letterCountDict:\n",
    "            letterCountDict[char] += 1\n",
    "    frequencies = []\n",
    "    for value in letterCountDict.values():\n",
    "        frequencies.append(value)\n",
    "    return frequencies\n",
    "\n",
    "print(frequencies('apple'))"
   ]
  },
  {
   "cell_type": "markdown",
   "metadata": {},
   "source": [
    "# Question 9\n",
    "#### Write a function integer n, implements the above algorithm\n",
    "#### and returns a list of all prime numbers up to n."
   ]
  },
  {
   "cell_type": "code",
   "execution_count": 17,
   "metadata": {},
   "outputs": [
    {
     "name": "stdout",
     "output_type": "stream",
     "text": [
      "Please enter a number: 100\n",
      "[2, 3, 5, 7, 11, 13, 17, 19, 23, 29, 31, 37, 41, 43, 47, 53, 59, 61, 67, 71, 73, 79, 83, 89, 97]\n"
     ]
    }
   ],
   "source": [
    "def filter(number, lst):\n",
    "    for num in lst:\n",
    "        if num % number == 0:\n",
    "            lst.remove(num)    \n",
    "\n",
    "def sieve(number):\n",
    "    if number < 2:\n",
    "        #Invalid input\n",
    "        return\n",
    "    \n",
    "    listL = []\n",
    "    listPrimeL = []\n",
    "\n",
    "    for i in range(2,number + 1):\n",
    "        listL.append(i)\n",
    "\n",
    "    while len(listL) != 0:\n",
    "        firstElemet = listL[0]\n",
    "        listPrimeL.append(firstElemet)\n",
    "        filter(firstElemet, listL)\n",
    "    return listPrimeL\n",
    "\n",
    "inputString = input('Please enter a number: ')\n",
    "inputInt = int(inputString)\n",
    "print(sieve(inputInt))"
   ]
  },
  {
   "cell_type": "markdown",
   "metadata": {},
   "source": [
    "# Question 10\n",
    "#### Implement function triangleArea(a,b,c) that takes as input\n",
    "#### the lengths of the 3 sides of a triangle and returns the area of the triangle."
   ]
  },
  {
   "cell_type": "code",
   "execution_count": 18,
   "metadata": {},
   "outputs": [
    {
     "name": "stdout",
     "output_type": "stream",
     "text": [
      "Please enter sides a,b and c of the triangle separated by a space, for example 2 2 2 :2 2 2\n",
      "1.7320508075688772\n"
     ]
    }
   ],
   "source": [
    "# https://www.geeksforgeeks.org/taking-multiple-inputs-from-user-in-python/\n",
    "\n",
    "def triangleArea(sideA, sideB, sideC):\n",
    "    s = (sideA + sideB + sideC)/2\n",
    "    area = (s * ((s-sideA) * (s-sideB) * (s-sideC))) ** 0.5\n",
    "    return area\n",
    "\n",
    "a, b, c = input('Please enter sides a,b and c of the triangle separated by a space, for example 2 2 2 :').split()\n",
    "\n",
    "sideA = float(a)\n",
    "sideB = float(b)\n",
    "sideC = float(c)\n",
    "\n",
    "print(triangleArea(sideA,sideB, sideC))"
   ]
  }
 ],
 "metadata": {
  "kernelspec": {
   "display_name": "Python 3",
   "language": "python",
   "name": "python3"
  },
  "language_info": {
   "codemirror_mode": {
    "name": "ipython",
    "version": 3
   },
   "file_extension": ".py",
   "mimetype": "text/x-python",
   "name": "python",
   "nbconvert_exporter": "python",
   "pygments_lexer": "ipython3",
   "version": "3.7.6"
  }
 },
 "nbformat": 4,
 "nbformat_minor": 4
}
